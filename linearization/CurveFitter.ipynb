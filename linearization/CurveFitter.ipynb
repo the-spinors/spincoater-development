{
 "cells": [
  {
   "cell_type": "code",
   "execution_count": 1,
   "id": "9cee7912-7307-4699-9dc6-40164ffec1ed",
   "metadata": {},
   "outputs": [],
   "source": [
    "import scipy as sp\n",
    "import numpy as np\n",
    "import pandas as pd\n",
    "import matplotlib.pyplot as plt"
   ]
  },
  {
   "cell_type": "code",
   "execution_count": 20,
   "id": "4ad7eb01-09bb-40f0-b09b-d70dfc3ddd0a",
   "metadata": {},
   "outputs": [
    {
     "name": "stdout",
     "output_type": "stream",
     "text": [
      "Index(['microseconds', ' RPMs'], dtype='object')\n"
     ]
    }
   ],
   "source": [
    "df = pd.read_csv(\"data.txt\")\n",
    "print(df.keys())\n",
    "microseconds, RPMs = [np.array(df[\"microseconds\"]), np.array(df[\" RPMs\"])]\n",
    "Rmax = 1\n",
    "Rmin = 2\n",
    "umin = 35"
   ]
  },
  {
   "cell_type": "code",
   "execution_count": 25,
   "id": "d2d7ba92-f012-4bdf-94cc-3b5fafc0d9d6",
   "metadata": {},
   "outputs": [
    {
     "data": {
      "text/plain": [
       "<matplotlib.collections.PathCollection at 0x1e8f6f77460>"
      ]
     },
     "execution_count": 25,
     "metadata": {},
     "output_type": "execute_result"
    },
    {
     "data": {
      "image/png": "[encoded data removed]",
      "text/plain": [
       "<Figure size 640x480 with 1 Axes>"
      ]
     },
     "metadata": {},
     "output_type": "display_data"
    }
   ],
   "source": [
    "# Find exponent parameter (k) for fit_function from microseconds to RPMs\n",
    "fit_function = lambda u, k: (Rmax - Rmin) * (1 - np.e**(-k * (u - umin))) + Rmin\n",
    "k_parameter = sp.optimize.curve_fit(fit_function, microseconds, RPMs)[0]\n",
    "\n",
    "u = np.linspace(min(microseconds), max(microseconds), 1000)\n",
    "fig, ax = plt.subplots()\n",
    "\n",
    "ax.scatter(microseconds, RPMs)\n",
    "# ax.text(1000, 1000, f\"k = {k_parameter}\")"
   ]
  },
  {
   "cell_type": "code",
   "execution_count": null,
   "id": "fa1a4b7b-189d-4067-85fc-c9eb0378ef48",
   "metadata": {},
   "outputs": [],
   "source": []
  }
 ],
 "metadata": {
  "kernelspec": {
   "display_name": "Python 3 (ipykernel)",
   "language": "python",
   "name": "python3"
  },
  "language_info": {
   "codemirror_mode": {
    "name": "ipython",
    "version": 3
   },
   "file_extension": ".py",
   "mimetype": "text/x-python",
   "name": "python",
   "nbconvert_exporter": "python",
   "pygments_lexer": "ipython3",
   "version": "3.10.0"
  }
 },
 "nbformat": 4,
 "nbformat_minor": 5
}
